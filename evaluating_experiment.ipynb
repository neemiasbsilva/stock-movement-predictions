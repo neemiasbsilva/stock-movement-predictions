{
 "cells": [
  {
   "cell_type": "markdown",
   "metadata": {
    "id": "s8v-9V5e6Utp"
   },
   "source": [
    "# Evaluating Experiment for Stock Price Movements\n",
    "\n",
    "> We can evaluate the movement for all data set"
   ]
  },
  {
   "cell_type": "markdown",
   "metadata": {
    "id": "Ym32KYFc6Utt"
   },
   "source": [
    "## Import Librarys"
   ]
  },
  {
   "cell_type": "code",
   "execution_count": 1,
   "metadata": {
    "executionInfo": {
     "elapsed": 3039,
     "status": "ok",
     "timestamp": 1601652232171,
     "user": {
      "displayName": "Neemias B. Silva",
      "photoUrl": "https://lh3.googleusercontent.com/a-/AOh14Gjm5dwVudyNbcPqFPOoPBV-aPnvR5u-iUST9XfzLg=s64",
      "userId": "17984109952714346005"
     },
     "user_tz": 240
    },
    "id": "sUyiVNIE6Utw"
   },
   "outputs": [],
   "source": [
    "from tensorflow.keras.models import load_model\n",
    "import numpy as np\n",
    "import matplotlib.pyplot as plt\n",
    "from sklearn.preprocessing import MinMaxScaler\n",
    "from sklearn.metrics import mean_squared_error\n",
    "import pandas as pd"
   ]
  },
  {
   "cell_type": "markdown",
   "metadata": {
    "id": "jtplf2U16UuA"
   },
   "source": [
    "## Load Dataset"
   ]
  },
  {
   "cell_type": "code",
   "execution_count": 21,
   "metadata": {
    "colab": {
     "base_uri": "https://localhost:8080/",
     "height": 204
    },
    "executionInfo": {
     "elapsed": 1005,
     "status": "ok",
     "timestamp": 1601652862640,
     "user": {
      "displayName": "Neemias B. Silva",
      "photoUrl": "https://lh3.googleusercontent.com/a-/AOh14Gjm5dwVudyNbcPqFPOoPBV-aPnvR5u-iUST9XfzLg=s64",
      "userId": "17984109952714346005"
     },
     "user_tz": 240
    },
    "id": "KDIOaDZS6UuC",
    "outputId": "6e096641-c29b-44a1-b834-103a9fca8bcb"
   },
   "outputs": [
    {
     "data": {
      "text/html": [
       "<div>\n",
       "<style scoped>\n",
       "    .dataframe tbody tr th:only-of-type {\n",
       "        vertical-align: middle;\n",
       "    }\n",
       "\n",
       "    .dataframe tbody tr th {\n",
       "        vertical-align: top;\n",
       "    }\n",
       "\n",
       "    .dataframe thead th {\n",
       "        text-align: right;\n",
       "    }\n",
       "</style>\n",
       "<table border=\"1\" class=\"dataframe\">\n",
       "  <thead>\n",
       "    <tr style=\"text-align: right;\">\n",
       "      <th></th>\n",
       "      <th>Date</th>\n",
       "      <th>Open</th>\n",
       "      <th>High</th>\n",
       "      <th>Low</th>\n",
       "      <th>Close</th>\n",
       "      <th>Adj Close</th>\n",
       "      <th>Volume</th>\n",
       "    </tr>\n",
       "  </thead>\n",
       "  <tbody>\n",
       "    <tr>\n",
       "      <th>0</th>\n",
       "      <td>2000-01-03</td>\n",
       "      <td>58.68750</td>\n",
       "      <td>59.3125</td>\n",
       "      <td>56.00000</td>\n",
       "      <td>58.28125</td>\n",
       "      <td>37.199776</td>\n",
       "      <td>53228400</td>\n",
       "    </tr>\n",
       "    <tr>\n",
       "      <th>1</th>\n",
       "      <td>2000-01-04</td>\n",
       "      <td>56.78125</td>\n",
       "      <td>58.5625</td>\n",
       "      <td>56.12500</td>\n",
       "      <td>56.31250</td>\n",
       "      <td>35.943153</td>\n",
       "      <td>54119000</td>\n",
       "    </tr>\n",
       "    <tr>\n",
       "      <th>2</th>\n",
       "      <td>2000-01-05</td>\n",
       "      <td>55.56250</td>\n",
       "      <td>58.1875</td>\n",
       "      <td>54.68750</td>\n",
       "      <td>56.90625</td>\n",
       "      <td>36.322121</td>\n",
       "      <td>64059600</td>\n",
       "    </tr>\n",
       "    <tr>\n",
       "      <th>3</th>\n",
       "      <td>2000-01-06</td>\n",
       "      <td>56.09375</td>\n",
       "      <td>56.9375</td>\n",
       "      <td>54.18750</td>\n",
       "      <td>55.00000</td>\n",
       "      <td>35.105415</td>\n",
       "      <td>54976600</td>\n",
       "    </tr>\n",
       "    <tr>\n",
       "      <th>4</th>\n",
       "      <td>2000-01-07</td>\n",
       "      <td>54.31250</td>\n",
       "      <td>56.1250</td>\n",
       "      <td>53.65625</td>\n",
       "      <td>55.71875</td>\n",
       "      <td>35.564171</td>\n",
       "      <td>62013600</td>\n",
       "    </tr>\n",
       "  </tbody>\n",
       "</table>\n",
       "</div>"
      ],
      "text/plain": [
       "         Date      Open     High       Low     Close  Adj Close    Volume\n",
       "0  2000-01-03  58.68750  59.3125  56.00000  58.28125  37.199776  53228400\n",
       "1  2000-01-04  56.78125  58.5625  56.12500  56.31250  35.943153  54119000\n",
       "2  2000-01-05  55.56250  58.1875  54.68750  56.90625  36.322121  64059600\n",
       "3  2000-01-06  56.09375  56.9375  54.18750  55.00000  35.105415  54976600\n",
       "4  2000-01-07  54.31250  56.1250  53.65625  55.71875  35.564171  62013600"
      ]
     },
     "execution_count": 21,
     "metadata": {
      "tags": []
     },
     "output_type": "execute_result"
    }
   ],
   "source": [
    "df = pd.read_csv(\"./stock-price-prediction/MSFT.csv\")\n",
    "\n",
    "df.head()"
   ]
  },
  {
   "cell_type": "markdown",
   "metadata": {
    "id": "sNt2-C4S6UuL"
   },
   "source": [
    "## Preprocessing"
   ]
  },
  {
   "cell_type": "code",
   "execution_count": 22,
   "metadata": {
    "executionInfo": {
     "elapsed": 1404,
     "status": "ok",
     "timestamp": 1601652866537,
     "user": {
      "displayName": "Neemias B. Silva",
      "photoUrl": "https://lh3.googleusercontent.com/a-/AOh14Gjm5dwVudyNbcPqFPOoPBV-aPnvR5u-iUST9XfzLg=s64",
      "userId": "17984109952714346005"
     },
     "user_tz": 240
    },
    "id": "S7Vvgjpt6UuN"
   },
   "outputs": [],
   "source": [
    "# specifie the same variable used during train\n",
    "data_split = int(df.shape[0]*0.8)\n",
    "data_set = df.iloc[:, 3:4].values\n",
    "training_set = data_set[:data_split,:]\n",
    "test_set = data_set[data_split:, :]"
   ]
  },
  {
   "cell_type": "code",
   "execution_count": 23,
   "metadata": {
    "colab": {
     "base_uri": "https://localhost:8080/",
     "height": 51
    },
    "executionInfo": {
     "elapsed": 919,
     "status": "ok",
     "timestamp": 1601652866539,
     "user": {
      "displayName": "Neemias B. Silva",
      "photoUrl": "https://lh3.googleusercontent.com/a-/AOh14Gjm5dwVudyNbcPqFPOoPBV-aPnvR5u-iUST9XfzLg=s64",
      "userId": "17984109952714346005"
     },
     "user_tz": 240
    },
    "id": "6q9EL5LN6UuR",
    "outputId": "d0ccb11f-ec62-4190-f96b-0a35876936f1"
   },
   "outputs": [
    {
     "name": "stdout",
     "output_type": "stream",
     "text": [
      "(4173, 1)\n",
      "(1044, 1)\n"
     ]
    }
   ],
   "source": [
    "from sklearn.preprocessing import MinMaxScaler\n",
    "\n",
    "sc = MinMaxScaler(feature_range=(0, 1))\n",
    "data_set_scaled = sc.fit_transform(data_set)\n",
    "training_set_scaled = data_set_scaled[:data_split]\n",
    "print(training_set_scaled.shape)\n",
    "test_set_scaled = data_set_scaled[data_split:]\n",
    "print(test_set_scaled.shape)"
   ]
  },
  {
   "cell_type": "code",
   "execution_count": 24,
   "metadata": {
    "colab": {
     "base_uri": "https://localhost:8080/",
     "height": 34
    },
    "executionInfo": {
     "elapsed": 1101,
     "status": "ok",
     "timestamp": 1601652866958,
     "user": {
      "displayName": "Neemias B. Silva",
      "photoUrl": "https://lh3.googleusercontent.com/a-/AOh14Gjm5dwVudyNbcPqFPOoPBV-aPnvR5u-iUST9XfzLg=s64",
      "userId": "17984109952714346005"
     },
     "user_tz": 240
    },
    "id": "PF_l_wS86UuW",
    "outputId": "2f98999c-a203-4da4-ac17-5596c6fd5434"
   },
   "outputs": [
    {
     "name": "stdout",
     "output_type": "stream",
     "text": [
      "(4143, 30, 1) (4143,) (1014, 30, 1) (1014,)\n"
     ]
    }
   ],
   "source": [
    "X_train = []\n",
    "y_train = []\n",
    "X_test = []\n",
    "y_test = []\n",
    "\n",
    "for i in range(30, training_set.shape[0]):\n",
    "    X_train.append(training_set_scaled[i-30:i, 0])\n",
    "    y_train.append(training_set_scaled[i, 0])\n",
    "\n",
    "for i in range(30, test_set.shape[0]):\n",
    "    X_test.append(test_set_scaled[i-30:i, 0])\n",
    "    y_test.append(test_set_scaled[i, 0])\n",
    "\n",
    "\n",
    "X_train, y_train = np.array(X_train), np.array(y_train)\n",
    "X_train = np.reshape(X_train, (X_train.shape[0], X_train.shape[1], 1))\n",
    "\n",
    "    \n",
    "    \n",
    "X_test, y_test = np.array(X_test), np.array(y_test)\n",
    "X_test = np.reshape(X_test, (X_test.shape[0], X_test.shape[1], 1))\n",
    "\n",
    "print(X_train.shape, y_train.shape, X_test.shape, y_test.shape)"
   ]
  },
  {
   "cell_type": "markdown",
   "metadata": {
    "id": "hsf9X1Fz6Uua"
   },
   "source": [
    "## Load Model"
   ]
  },
  {
   "cell_type": "code",
   "execution_count": 25,
   "metadata": {
    "executionInfo": {
     "elapsed": 2597,
     "status": "ok",
     "timestamp": 1601652869482,
     "user": {
      "displayName": "Neemias B. Silva",
      "photoUrl": "https://lh3.googleusercontent.com/a-/AOh14Gjm5dwVudyNbcPqFPOoPBV-aPnvR5u-iUST9XfzLg=s64",
      "userId": "17984109952714346005"
     },
     "user_tz": 240
    },
    "id": "ij5HbRbZ6Uub"
   },
   "outputs": [],
   "source": [
    "model = load_model(\"model.h5\")"
   ]
  },
  {
   "cell_type": "code",
   "execution_count": 26,
   "metadata": {
    "executionInfo": {
     "elapsed": 10178,
     "status": "ok",
     "timestamp": 1601652877351,
     "user": {
      "displayName": "Neemias B. Silva",
      "photoUrl": "https://lh3.googleusercontent.com/a-/AOh14Gjm5dwVudyNbcPqFPOoPBV-aPnvR5u-iUST9XfzLg=s64",
      "userId": "17984109952714346005"
     },
     "user_tz": 240
    },
    "id": "UkiE9-Dn6Uug"
   },
   "outputs": [],
   "source": [
    "trainPredict = model.predict(X_train[:X_train.shape[0]*80//100])\n",
    "valPredict = model.predict(X_train[X_train.shape[0]*80//100:])\n",
    "testPredict = model.predict(X_test)\n",
    "\n",
    "trainPredict = np.c_[trainPredict, np.zeros(trainPredict.shape)]\n",
    "valPredict = np.c_[valPredict, np.zeros(valPredict.shape)]\n",
    "testPredict = np.c_[testPredict, np.zeros(testPredict.shape)]"
   ]
  },
  {
   "cell_type": "code",
   "execution_count": 27,
   "metadata": {
    "executionInfo": {
     "elapsed": 9927,
     "status": "ok",
     "timestamp": 1601652877362,
     "user": {
      "displayName": "Neemias B. Silva",
      "photoUrl": "https://lh3.googleusercontent.com/a-/AOh14Gjm5dwVudyNbcPqFPOoPBV-aPnvR5u-iUST9XfzLg=s64",
      "userId": "17984109952714346005"
     },
     "user_tz": 240
    },
    "id": "l_ayXx5V6Uuj"
   },
   "outputs": [],
   "source": [
    "# invert predictions\n",
    "\n",
    "trainPredict = sc.inverse_transform(trainPredict)\n",
    "trainPredict = [x[0] for x in trainPredict]\n",
    "\n",
    "valPredict = sc.inverse_transform(valPredict)\n",
    "valPredict = [x[0] for x in valPredict]\n",
    "\n",
    "\n",
    "testPredict = sc.inverse_transform(testPredict)\n",
    "testPredict = [x[0] for x in testPredict]"
   ]
  },
  {
   "cell_type": "markdown",
   "metadata": {
    "id": "lJ3bGA4z7_WZ"
   },
   "source": [
    "## Evaluation\n",
    "\n",
    "## RMSE Metric"
   ]
  },
  {
   "cell_type": "code",
   "execution_count": 28,
   "metadata": {
    "colab": {
     "base_uri": "https://localhost:8080/",
     "height": 68
    },
    "executionInfo": {
     "elapsed": 9411,
     "status": "ok",
     "timestamp": 1601652877363,
     "user": {
      "displayName": "Neemias B. Silva",
      "photoUrl": "https://lh3.googleusercontent.com/a-/AOh14Gjm5dwVudyNbcPqFPOoPBV-aPnvR5u-iUST9XfzLg=s64",
      "userId": "17984109952714346005"
     },
     "user_tz": 240
    },
    "id": "1i48aeKk7aO1",
    "outputId": "6087d2eb-9847-4e8c-db92-1a4a8707166b"
   },
   "outputs": [
    {
     "name": "stdout",
     "output_type": "stream",
     "text": [
      "Train Score: 27.89 RMSE\n",
      "Val Score: 42.42 RMSE\n",
      "Test Score: 102.92 RSME\n"
     ]
    }
   ],
   "source": [
    "# calculate the root_mean_squared_error\n",
    "\n",
    "trainScore = mean_squared_error([x[0][0] for x in X_train[:X_train.shape[0]*80//100]],\n",
    "                                trainPredict, squared=False)\n",
    "\n",
    "print(\"Train Score: {:.2f} RMSE\".format(trainScore))\n",
    "\n",
    "\n",
    "valScore = mean_squared_error([x[0][0] for x in X_train[X_train.shape[0]*80//100:]],\n",
    "                              valPredict, squared=False)\n",
    "\n",
    "print(\"Val Score: {:.2f} RMSE\".format(valScore))\n",
    "\n",
    "testScore = mean_squared_error([x[0][0] for x in X_test], testPredict, squared=False)\n",
    "\n",
    "print(\"Test Score: {:.2f} RSME\".format(testScore))"
   ]
  },
  {
   "cell_type": "markdown",
   "metadata": {
    "id": "KYf-BFWP8G9a"
   },
   "source": [
    "### Visualizing the Stock Price Movement"
   ]
  },
  {
   "cell_type": "code",
   "execution_count": 33,
   "metadata": {
    "colab": {
     "base_uri": "https://localhost:8080/",
     "height": 598
    },
    "executionInfo": {
     "elapsed": 2126,
     "status": "ok",
     "timestamp": 1601652979739,
     "user": {
      "displayName": "Neemias B. Silva",
      "photoUrl": "https://lh3.googleusercontent.com/a-/AOh14Gjm5dwVudyNbcPqFPOoPBV-aPnvR5u-iUST9XfzLg=s64",
      "userId": "17984109952714346005"
     },
     "user_tz": 240
    },
    "id": "pAYQiLFZ7uO9",
    "outputId": "f198d8ce-a97e-4d28-d6ad-3f24fcde59d8"
   },
   "outputs": [
    {
     "name": "stdout",
     "output_type": "stream",
     "text": [
      "(5217, 1) (4328,) (3314,) (1014,)\n"
     ]
    },
    {
     "data": {
      "image/png": "[encoded data removed]",
      "text/plain": [
       "<Figure size 1296x648 with 1 Axes>"
      ]
     },
     "metadata": {
      "needs_background": "light",
      "tags": []
     },
     "output_type": "display_data"
    }
   ],
   "source": [
    "data_set_predicted = np.concatenate((trainPredict,valPredict, testPredict), axis=0)\n",
    "\n",
    "plt.figure(figsize=(18, 9))\n",
    "\n",
    "plt.plot(range(df.shape[0]), data_set, color='b', label='Low price history')\n",
    "\n",
    "trainPredict, testPredict = np.array(trainPredict), np.array(testPredict)\n",
    "\n",
    "print(data_set.shape, np.concatenate((trainPredict, testPredict), axis=0).shape, trainPredict.shape, testPredict.shape)\n",
    "plt.plot(range(data_set_predicted.shape[0]), data_set_predicted, color='r', label='Stock price movement')\n",
    "\n",
    "plt.legend()\n",
    "plt.title(\"Best Test Prediction Over Time\", fontsize=18)\n",
    "plt.xlabel(\"Date\", fontsize=18)\n",
    "plt.ylabel(\"Low Price\", fontsize=18)\n",
    "plt.xticks(range(0, df.shape[0], 100), df[\"Date\"].loc[::100], rotation=45)\n",
    "plt.xlim(0, 5250)\n",
    "plt.savefig(\"result.png\")"
   ]
  },
  {
   "cell_type": "code",
   "execution_count": 29,
   "metadata": {
    "executionInfo": {
     "elapsed": 8852,
     "status": "ok",
     "timestamp": 1601652877919,
     "user": {
      "displayName": "Neemias B. Silva",
      "photoUrl": "https://lh3.googleusercontent.com/a-/AOh14Gjm5dwVudyNbcPqFPOoPBV-aPnvR5u-iUST9XfzLg=s64",
      "userId": "17984109952714346005"
     },
     "user_tz": 240
    },
    "id": "fwQPqe1w8av_"
   },
   "outputs": [],
   "source": []
  }
 ],
 "metadata": {
  "colab": {
   "collapsed_sections": [],
   "name": "evaluating_experiment.ipynb",
   "provenance": [],
   "toc_visible": true
  },
  "kernelspec": {
   "display_name": "venv",
   "language": "python",
   "name": "venv"
  },
  "language_info": {
   "codemirror_mode": {
    "name": "ipython",
    "version": 3
   },
   "file_extension": ".py",
   "mimetype": "text/x-python",
   "name": "python",
   "nbconvert_exporter": "python",
   "pygments_lexer": "ipython3",
   "version": "3.7.4"
  }
 },
 "nbformat": 4,
 "nbformat_minor": 1
}
